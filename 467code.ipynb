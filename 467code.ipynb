{
  "nbformat": 4,
  "nbformat_minor": 0,
  "metadata": {
    "colab": {
      "provenance": []
    },
    "kernelspec": {
      "name": "python3",
      "display_name": "Python 3"
    },
    "language_info": {
      "name": "python"
    }
  },
  "cells": [
    {
      "cell_type": "markdown",
      "source": [
        "# Griffin Dobbins NFL Model\n",
        "## Run all cells at once. If you want to change the hyperparameters, change them in the code and then run it all. Don't run the cells out of order since I reuse and modify variables."
      ],
      "metadata": {
        "id": "uH2HylydkxJl"
      }
    },
    {
      "cell_type": "code",
      "execution_count": 1323,
      "metadata": {
        "id": "mLwSKrRA4Ox_"
      },
      "outputs": [],
      "source": [
        "import pandas as pd\n",
        "import numpy as np"
      ]
    },
    {
      "cell_type": "code",
      "source": [
        "elo = pd.read_csv('nfl_elo.csv')"
      ],
      "metadata": {
        "id": "OvsYJJiF4d3x"
      },
      "execution_count": 1324,
      "outputs": []
    },
    {
      "cell_type": "code",
      "source": [
        "elo['date'] = pd.to_datetime(elo['date'])"
      ],
      "metadata": {
        "id": "PEVWpoUl4iqs"
      },
      "execution_count": 1325,
      "outputs": []
    },
    {
      "cell_type": "code",
      "source": [
        "spreadspoke = pd.read_csv('spreadspoke_scores.csv')"
      ],
      "metadata": {
        "id": "GkrFnM5IyXlo"
      },
      "execution_count": 1326,
      "outputs": []
    },
    {
      "cell_type": "code",
      "source": [
        "spreadspoke['schedule_date'] = pd.to_datetime(spreadspoke['schedule_date'])"
      ],
      "metadata": {
        "id": "iofAjMMPygvE"
      },
      "execution_count": 1327,
      "outputs": []
    },
    {
      "cell_type": "code",
      "source": [
        "teamMap = {\n",
        "    'Arizona Cardinals': 'ARI',\n",
        "    'Atlanta Falcons': 'ATL',\n",
        "    'Baltimore Ravens': 'BAL',\n",
        "    'Buffalo Bills': 'BUF',\n",
        "    'Carolina Panthers': 'CAR',\n",
        "    'Chicago Bears': 'CHI',\n",
        "    'Cincinnati Bengals': 'CIN',\n",
        "    'Cleveland Browns': 'CLE',\n",
        "    'Dallas Cowboys': 'DAL',\n",
        "    'Denver Broncos': 'DEN',\n",
        "    'Detroit Lions': 'DET',\n",
        "    'Green Bay Packers': 'GB',\n",
        "    'Houston Texans': 'HOU',\n",
        "    'Indianapolis Colts': 'IND',\n",
        "    'Jacksonville Jaguars': 'JAX',\n",
        "    'Kansas City Chiefs': 'KC',\n",
        "    'Los Angeles Chargers': 'LAC',\n",
        "    'Los Angeles Rams': 'LAR',\n",
        "    'Miami Dolphins': 'MIA',\n",
        "    'Minnesota Vikings': 'MIN',\n",
        "    'New England Patriots': 'NE',\n",
        "    'New Orleans Saints': 'NO',\n",
        "    'New York Giants': 'NYG',\n",
        "    'New York Jets': 'NYJ',\n",
        "    'Las Vegas Raiders': 'LV',\n",
        "    'Philadelphia Eagles': 'PHI',\n",
        "    'Pittsburgh Steelers': 'PIT',\n",
        "    'San Francisco 49ers': 'SF',\n",
        "    'Seattle Seahawks': 'SEA',\n",
        "    'Tampa Bay Buccaneers': 'TB',\n",
        "    'Tennessee Titans': 'TEN',\n",
        "    'Washington Commanders': 'WAS',\n",
        "    'Oakland Raiders': 'OAK',\n",
        "    'San Diego Chargers': 'SD',\n",
        "    'St. Louis Rams': 'STL',\n",
        "    'Washington Football Team': 'WAS',\n",
        "    'Washington Redskins': 'WAS'\n",
        "}\n"
      ],
      "metadata": {
        "id": "G19LwITsyjzt"
      },
      "execution_count": 1328,
      "outputs": []
    },
    {
      "cell_type": "code",
      "source": [
        "spreadspoke['team_home'] = spreadspoke['team_home'].map(teamMap)\n",
        "spreadspoke['team_away'] = spreadspoke['team_away'].map(teamMap)\n",
        "\n",
        "df = pd.merge(elo, spreadspoke, left_on=['date', 'team1'], right_on=['schedule_date', 'team_home'], how='inner')"
      ],
      "metadata": {
        "id": "_tAa-bWizPxk"
      },
      "execution_count": 1329,
      "outputs": []
    },
    {
      "cell_type": "code",
      "source": [
        "df = df[['date', 'season', 'neutral', 'playoff', 'team1', 'team2', 'elo1_pre',\n",
        "       'elo2_pre', 'qbelo1_pre', 'qbelo2_pre', 'score1', 'score2', 'schedule_week','team_favorite_id', 'spread_favorite',\n",
        "       'over_under_line', 'stadium', 'stadium_neutral']]"
      ],
      "metadata": {
        "id": "szQKS-GW1KqX"
      },
      "execution_count": 1330,
      "outputs": []
    },
    {
      "cell_type": "code",
      "source": [
        "df['over_under_line'] = pd.to_numeric(df['over_under_line'], errors='coerce')\n",
        "df.dropna(subset=['over_under_line'], inplace=True)\n",
        "df['over_under_line'] = df['over_under_line'].astype(np.float64)"
      ],
      "metadata": {
        "id": "_hmnxl5JF4vm"
      },
      "execution_count": 1331,
      "outputs": []
    },
    {
      "cell_type": "code",
      "source": [
        "df['homecover'] = np.where(\n",
        "    ((df['score1'] - df['score2']) > -df['spread_favorite']) & (df['team_favorite_id'] == df['team1']) |\n",
        "    ((df['score1'] - df['score2']) > df['spread_favorite']) & (df['team_favorite_id'] == df['team2']),\n",
        "    1, np.where(((df['score1'] - df['score2']) == -df['spread_favorite']) & (df['team_favorite_id'] == df['team1']) |\n",
        "    ((df['score1'] - df['score2']) == df['spread_favorite']) & (df['team_favorite_id'] == df['team2']), 0.5, 0)\n",
        ")\n",
        "df.dropna(subset=['homecover', 'spread_favorite'], inplace=True)"
      ],
      "metadata": {
        "id": "3_LIwtMx75ya"
      },
      "execution_count": 1332,
      "outputs": []
    },
    {
      "cell_type": "code",
      "source": [
        "df = df[df['homecover'] != 0.5] # ignore pushes"
      ],
      "metadata": {
        "id": "lilk6N-q_art"
      },
      "execution_count": 1333,
      "outputs": []
    },
    {
      "cell_type": "code",
      "source": [
        "df['home_points_scored_so_far'] = df.groupby(['team1', 'season'])['score1'].cumsum()\n",
        "df['away_points_scored_so_far'] = df.groupby(['team2', 'season'])['score2'].cumsum()\n",
        "df['home_points_allowed_so_far'] = df.groupby(['team1', 'season'])['score1'].cumsum()\n",
        "df['away_points_allowed_so_far'] = df.groupby(['team2', 'season'])['score2'].cumsum()"
      ],
      "metadata": {
        "colab": {
          "base_uri": "https://localhost:8080/"
        },
        "id": "LfQG816fETlB",
        "outputId": "dbe63100-8e09-4559-ceb5-1c8182b3a31b"
      },
      "execution_count": 1334,
      "outputs": [
        {
          "output_type": "stream",
          "name": "stderr",
          "text": [
            "<ipython-input-1334-7901a3cddae3>:1: SettingWithCopyWarning: \n",
            "A value is trying to be set on a copy of a slice from a DataFrame.\n",
            "Try using .loc[row_indexer,col_indexer] = value instead\n",
            "\n",
            "See the caveats in the documentation: https://pandas.pydata.org/pandas-docs/stable/user_guide/indexing.html#returning-a-view-versus-a-copy\n",
            "  df['home_points_scored_so_far'] = df.groupby(['team1', 'season'])['score1'].cumsum()\n",
            "<ipython-input-1334-7901a3cddae3>:2: SettingWithCopyWarning: \n",
            "A value is trying to be set on a copy of a slice from a DataFrame.\n",
            "Try using .loc[row_indexer,col_indexer] = value instead\n",
            "\n",
            "See the caveats in the documentation: https://pandas.pydata.org/pandas-docs/stable/user_guide/indexing.html#returning-a-view-versus-a-copy\n",
            "  df['away_points_scored_so_far'] = df.groupby(['team2', 'season'])['score2'].cumsum()\n",
            "<ipython-input-1334-7901a3cddae3>:3: SettingWithCopyWarning: \n",
            "A value is trying to be set on a copy of a slice from a DataFrame.\n",
            "Try using .loc[row_indexer,col_indexer] = value instead\n",
            "\n",
            "See the caveats in the documentation: https://pandas.pydata.org/pandas-docs/stable/user_guide/indexing.html#returning-a-view-versus-a-copy\n",
            "  df['home_points_allowed_so_far'] = df.groupby(['team1', 'season'])['score1'].cumsum()\n",
            "<ipython-input-1334-7901a3cddae3>:4: SettingWithCopyWarning: \n",
            "A value is trying to be set on a copy of a slice from a DataFrame.\n",
            "Try using .loc[row_indexer,col_indexer] = value instead\n",
            "\n",
            "See the caveats in the documentation: https://pandas.pydata.org/pandas-docs/stable/user_guide/indexing.html#returning-a-view-versus-a-copy\n",
            "  df['away_points_allowed_so_far'] = df.groupby(['team2', 'season'])['score2'].cumsum()\n"
          ]
        }
      ]
    },
    {
      "cell_type": "markdown",
      "source": [
        "# Dataset #1\n",
        "### Using fewer features but getting more rows"
      ],
      "metadata": {
        "id": "ZYNWoSadEy_B"
      }
    },
    {
      "cell_type": "code",
      "source": [
        "X = df[['neutral', 'elo1_pre', 'elo2_pre', 'qbelo1_pre', 'qbelo2_pre', 'spread_favorite', 'over_under_line','home_points_scored_so_far','away_points_scored_so_far', 'home_points_allowed_so_far',\n",
        "       'away_points_allowed_so_far']]"
      ],
      "metadata": {
        "id": "4TgPdQnOFDgf"
      },
      "execution_count": 1335,
      "outputs": []
    },
    {
      "cell_type": "code",
      "source": [
        "y = df['homecover']"
      ],
      "metadata": {
        "id": "dKCYkskrHAiH"
      },
      "execution_count": 1336,
      "outputs": []
    },
    {
      "cell_type": "code",
      "source": [
        "from sklearn.model_selection import train_test_split\n",
        "from sklearn.linear_model import LogisticRegression\n",
        "from sklearn.metrics import accuracy_score\n",
        "\n",
        "X_train, X_test, y_train, y_test = train_test_split(X, y, test_size=0.2, random_state=42)\n",
        "\n",
        "model = LogisticRegression(max_iter=5000)\n",
        "model.fit(X_train, y_train)\n",
        "y_pred = model.predict(X_test)\n",
        "accuracy = accuracy_score(y_test, y_pred)\n",
        "print(\"Accuracy:\", accuracy)"
      ],
      "metadata": {
        "colab": {
          "base_uri": "https://localhost:8080/"
        },
        "id": "poMd53iQGILm",
        "outputId": "1a5b98cc-c24e-45e6-908e-01d01b5e0c98"
      },
      "execution_count": 1337,
      "outputs": [
        {
          "output_type": "stream",
          "name": "stdout",
          "text": [
            "Accuracy: 0.6248004257583821\n"
          ]
        }
      ]
    },
    {
      "cell_type": "code",
      "source": [
        "from sklearn.neural_network import MLPClassifier\n",
        "\n",
        "X_train, X_test, y_train, y_test = train_test_split(X, y, test_size=0.2, random_state=42)\n",
        "\n",
        "X_train, X_dev, y_train, y_dev = train_test_split(X_train, y_train, test_size=0.25, random_state=42)\n",
        "\n",
        "model = MLPClassifier(hidden_layer_sizes=(7,4), max_iter=500, random_state=42)\n",
        "model.fit(X_train, y_train)\n",
        "\n",
        "y_pred = model.predict(X_dev)\n",
        "\n",
        "accuracy = accuracy_score(y_dev, y_pred)\n",
        "print(\"Accuracy:\", accuracy)\n",
        "\n",
        "y_test_pred = model.predict(X_test)\n",
        "accuracy_test = accuracy_score(y_test, y_test_pred)\n",
        "print(\"Test Accuracy:\", accuracy_test)"
      ],
      "metadata": {
        "colab": {
          "base_uri": "https://localhost:8080/"
        },
        "id": "Xb_Rtv8iOUve",
        "outputId": "09f92f42-0cc3-467d-b2cb-271bdc4299fd"
      },
      "execution_count": 1338,
      "outputs": [
        {
          "output_type": "stream",
          "name": "stdout",
          "text": [
            "Accuracy: 0.5042598509052183\n",
            "Test Accuracy: 0.5300691857370942\n"
          ]
        }
      ]
    },
    {
      "cell_type": "code",
      "source": [
        "from sklearn.ensemble import RandomForestClassifier\n",
        "\n",
        "model = RandomForestClassifier(n_estimators=100, criterion='entropy', random_state=42)\n",
        "model.fit(X_train, y_train)\n",
        "\n",
        "y_pred = model.predict(X_dev)\n",
        "accuracy = accuracy_score(y_dev, y_pred)\n",
        "print(\"Random Forest Accuracy (Dev):\", accuracy)\n",
        "\n",
        "y_test_pred = model.predict(X_test)\n",
        "accuracy_test = accuracy_score(y_test, y_test_pred)\n",
        "print(\"Random Forest Accuracy (Test):\", accuracy_test)"
      ],
      "metadata": {
        "colab": {
          "base_uri": "https://localhost:8080/"
        },
        "id": "-4ihCF4avYYG",
        "outputId": "c17e04b3-c3b5-4d41-cd33-70970ec694c0"
      },
      "execution_count": 1339,
      "outputs": [
        {
          "output_type": "stream",
          "name": "stdout",
          "text": [
            "Random Forest Accuracy (Dev): 0.6272630457933972\n",
            "Random Forest Accuracy (Test): 0.6381053751995742\n"
          ]
        }
      ]
    },
    {
      "cell_type": "code",
      "source": [
        "# Baseline: always take the home team\n",
        "\n",
        "y_pred_baseline = np.ones(len(y_test))\n",
        "\n",
        "accuracy_baseline = accuracy_score(y_test, y_pred_baseline)\n",
        "print(accuracy_baseline)"
      ],
      "metadata": {
        "colab": {
          "base_uri": "https://localhost:8080/"
        },
        "id": "obMo7N-JPUvg",
        "outputId": "e25edc3f-7441-49a3-afa4-929e1b4576c4"
      },
      "execution_count": 1340,
      "outputs": [
        {
          "output_type": "stream",
          "name": "stdout",
          "text": [
            "0.4699308142629058\n"
          ]
        }
      ]
    },
    {
      "cell_type": "markdown",
      "source": [
        "# Dataset #2\n",
        "### Using more features, but fewer rows"
      ],
      "metadata": {
        "id": "lMo6c2OkRp2a"
      }
    },
    {
      "cell_type": "code",
      "source": [
        "weekly = pd.read_csv('weekly_team_data.csv')"
      ],
      "metadata": {
        "id": "IoniWVjwDuQD"
      },
      "execution_count": 1341,
      "outputs": []
    },
    {
      "cell_type": "code",
      "source": [
        "df = df.loc[~df['schedule_week'].isin(['Superbowl', 'Wildcard', 'Division', 'Conference'])]\n",
        "df['schedule_week'] = df['schedule_week'].astype(int)"
      ],
      "metadata": {
        "colab": {
          "base_uri": "https://localhost:8080/"
        },
        "id": "6bHDJqwt6pB0",
        "outputId": "b99a63eb-bc2f-47ce-f871-9ddff2c4e9f3"
      },
      "execution_count": 1342,
      "outputs": [
        {
          "output_type": "stream",
          "name": "stderr",
          "text": [
            "<ipython-input-1342-4de60e863394>:2: SettingWithCopyWarning: \n",
            "A value is trying to be set on a copy of a slice from a DataFrame.\n",
            "Try using .loc[row_indexer,col_indexer] = value instead\n",
            "\n",
            "See the caveats in the documentation: https://pandas.pydata.org/pandas-docs/stable/user_guide/indexing.html#returning-a-view-versus-a-copy\n",
            "  df['schedule_week'] = df['schedule_week'].astype(int)\n"
          ]
        }
      ]
    },
    {
      "cell_type": "code",
      "source": [
        "df = df.merge(\n",
        "    weekly,\n",
        "    how='left',\n",
        "    left_on=['team1', 'season', 'schedule_week'],\n",
        "    right_on=['team', 'season', 'week'],\n",
        "    suffixes=('', '_home')\n",
        ")\n",
        "\n",
        "df = df.merge(\n",
        "    weekly,\n",
        "    how='left',\n",
        "    left_on=['team2', 'season', 'schedule_week'],\n",
        "    right_on=['team', 'season', 'week'],\n",
        "    suffixes=('', '_away')\n",
        ")"
      ],
      "metadata": {
        "id": "JWoug7PjFJNn"
      },
      "execution_count": 1343,
      "outputs": []
    },
    {
      "cell_type": "code",
      "source": [
        "df.dropna(subset=['rushing_yards_away'], inplace=True)\n",
        "df['home_yards_so_far'] = df.groupby(['team1', 'season'])['yards_gained'].cumsum()\n",
        "df['away_yards_so_far'] = df.groupby(['team2', 'season'])['yards_gained_away'].cumsum()\n",
        "df['home_touchdowns_so_far'] = df.groupby(['team1', 'season'])['touchdown'].cumsum()\n",
        "df['away_touchdowns_so_far'] = df.groupby(['team2', 'season'])['touchdown_away'].cumsum()\n",
        "df['home_interceptions_so_far'] = df.groupby(['team1', 'season'])['interception'].cumsum()\n",
        "df['away_interceptions_so_far'] = df.groupby(['team2', 'season'])['interception_away'].cumsum()\n",
        "df['home_air_yards_so_far'] = df.groupby(['team1', 'season'])['air_yards'].cumsum()\n",
        "df['away_air_yards_so_far'] = df.groupby(['team2', 'season'])['air_yards_away'].cumsum()\n",
        "df['home_fumbles_so_far'] = df.groupby(['team1', 'season'])['fumble'].cumsum()\n",
        "df['away_fumbles_so_far'] = df.groupby(['team2', 'season'])['fumble_away'].cumsum()\n",
        "df['home_qb_scrambled_so_far'] = df.groupby(['team1', 'season'])['qb_scramble'].cumsum()\n",
        "df['away_qb_scrambled_so_far'] = df.groupby(['team2', 'season'])['qb_scramble_away'].cumsum()\n",
        "df['home_pass_snaps_pct_so_far'] = df.groupby(['team1', 'season'])['pass_snaps_pct'].cumsum()\n",
        "df['away_pass_snaps_pct_so_far'] = df.groupby(['team2', 'season'])['pass_snaps_pct_away'].cumsum()"
      ],
      "metadata": {
        "id": "hjEc3l-KF-mk"
      },
      "execution_count": 1344,
      "outputs": []
    },
    {
      "cell_type": "code",
      "source": [
        "features = [\n",
        "    'neutral','elo1_pre', 'elo2_pre', 'qbelo1_pre', 'qbelo2_pre', 'spread_favorite', 'over_under_line',\n",
        "    'home_points_scored_so_far', 'away_points_scored_so_far',\n",
        "    'home_points_allowed_so_far', 'away_points_allowed_so_far',\n",
        "    'home_yards_so_far', 'away_yards_so_far', 'home_touchdowns_so_far', 'away_touchdowns_so_far',\n",
        "    'home_interceptions_so_far', 'away_interceptions_so_far', 'home_air_yards_so_far', 'away_air_yards_so_far',\n",
        "    'home_fumbles_so_far', 'away_fumbles_so_far', 'home_qb_scrambled_so_far', 'away_qb_scrambled_so_far',\n",
        "    'home_pass_snaps_pct_so_far', 'away_pass_snaps_pct_so_far'\n",
        "]"
      ],
      "metadata": {
        "id": "H2cw8hukG1zi"
      },
      "execution_count": 1345,
      "outputs": []
    },
    {
      "cell_type": "code",
      "source": [
        "for col in features:\n",
        "  if col in df.columns and df[col].isnull().any():\n",
        "    df[col] = df[col].fillna(df[col].mean())\n",
        "\n",
        "X = df[features]\n",
        "y = df['homecover']"
      ],
      "metadata": {
        "id": "qtSP_0ozHPG6"
      },
      "execution_count": 1346,
      "outputs": []
    },
    {
      "cell_type": "code",
      "source": [
        "X_train, X_test, y_train, y_test = train_test_split(X, y, test_size=0.2, random_state=42)\n",
        "\n",
        "model = LogisticRegression(solver = 'liblinear', max_iter=10000)\n",
        "model.fit(X_train, y_train)\n",
        "y_pred = model.predict(X_test)\n",
        "accuracy = accuracy_score(y_test, y_pred)\n",
        "print(\"Accuracy:\", accuracy)"
      ],
      "metadata": {
        "colab": {
          "base_uri": "https://localhost:8080/"
        },
        "id": "_DrdzdSTHmts",
        "outputId": "005c9bb7-dd98-4aa7-dbc5-2fdf5d860a7b"
      },
      "execution_count": 1347,
      "outputs": [
        {
          "output_type": "stream",
          "name": "stdout",
          "text": [
            "Accuracy: 0.6673913043478261\n"
          ]
        }
      ]
    },
    {
      "cell_type": "code",
      "source": [
        "X_train, X_test, y_train, y_test = train_test_split(X, y, test_size=0.2, random_state=42)\n",
        "\n",
        "X_train, X_dev, y_train, y_dev = train_test_split(X_train, y_train, test_size=0.25, random_state=42)\n",
        "\n",
        "model = MLPClassifier(hidden_layer_sizes=(60,12), max_iter=500, random_state=42)\n",
        "model.fit(X_train, y_train)\n",
        "\n",
        "y_pred = model.predict(X_dev)\n",
        "\n",
        "accuracy = accuracy_score(y_dev, y_pred)\n",
        "print(\"Dev Accuracy:\", accuracy)\n",
        "\n",
        "y_test_pred = model.predict(X_test)\n",
        "accuracy_test = accuracy_score(y_test, y_test_pred)\n",
        "print(\"Test Accuracy:\", accuracy_test)"
      ],
      "metadata": {
        "colab": {
          "base_uri": "https://localhost:8080/"
        },
        "id": "Y2FSG4ULLJ40",
        "outputId": "80980a72-163f-41a3-93f8-2e5f5a5509d2"
      },
      "execution_count": 1348,
      "outputs": [
        {
          "output_type": "stream",
          "name": "stdout",
          "text": [
            "Dev Accuracy: 0.5804347826086956\n",
            "Test Accuracy: 0.5739130434782609\n"
          ]
        }
      ]
    },
    {
      "cell_type": "code",
      "source": [
        "model = RandomForestClassifier(n_estimators=80, criterion='entropy', random_state=42)\n",
        "model.fit(X_train, y_train)\n",
        "\n",
        "y_pred = model.predict(X_dev)\n",
        "accuracy = accuracy_score(y_dev, y_pred)\n",
        "print(\"Random Forest Accuracy (Dev):\", accuracy)\n",
        "\n",
        "y_test_pred = model.predict(X_test)\n",
        "accuracy_test = accuracy_score(y_test, y_test_pred)\n",
        "print(\"Random Forest Accuracy (Test):\", accuracy_test)"
      ],
      "metadata": {
        "colab": {
          "base_uri": "https://localhost:8080/"
        },
        "id": "sU8pFUs6IeF0",
        "outputId": "e05881e3-1b8d-468c-fe93-91fd84ae8c88"
      },
      "execution_count": 1349,
      "outputs": [
        {
          "output_type": "stream",
          "name": "stdout",
          "text": [
            "Random Forest Accuracy (Dev): 0.6521739130434783\n",
            "Random Forest Accuracy (Test): 0.6804347826086956\n"
          ]
        }
      ]
    }
  ]
}