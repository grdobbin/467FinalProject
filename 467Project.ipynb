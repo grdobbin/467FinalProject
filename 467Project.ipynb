{
  "cells": [
    {
      "cell_type": "code",
      "execution_count": 134,
      "metadata": {
        "id": "ExhOUPqB5bJj"
      },
      "outputs": [],
      "source": [
        "import pandas as pd\n",
        "import numpy as np\n",
        "\n",
        "df = pd.read_csv('spreadspoke_scores.csv')\n",
        "\n",
        "df.drop(['Unnamed: 17', 'Unnamed: 18', 'Unnamed: 19', 'Unnamed: 20', 'Unnamed: 21', 'Unnamed: 22', 'Unnamed: 23', 'Unnamed: 24'], axis=1, inplace=True)\n",
        "df.dropna(subset=['team_favorite_id'], inplace=True)\n",
        "lookup_table = pd.read_csv('nfl_teams.csv')\n",
        "lookup_table = lookup_table[['team_name', 'team_id']]\n",
        "lookup_table.columns = ['full_name', 'abbreviation']\n",
        "\n",
        "df['team_home_abbreviation'] = df['team_home'].map(lookup_table.set_index('full_name')['abbreviation'])\n",
        "df['team_away_abbreviation'] = df['team_away'].map(lookup_table.set_index('full_name')['abbreviation'])\n",
        "\n",
        "team_stats_df = pd.read_csv('weekly_team_data.csv')\n",
        "\n",
        "team_stats_df = team_stats_df.rename(columns={'team': 'team_abbreviation'})\n",
        "\n",
        "df['home_points_scored_so_far'] = df.groupby(['team_home', 'schedule_season'])['score_home'].cumsum()\n",
        "df['away_points_scored_so_far'] = df.groupby(['team_away', 'schedule_season'])['score_away'].cumsum()\n",
        "df['home_points_allowed_so_far'] = df.groupby(['team_home', 'schedule_season'])['score_away'].cumsum()\n",
        "df['away_points_allowed_so_far'] = df.groupby(['team_away', 'schedule_season'])['score_home'].cumsum()\n"
      ]
    },
    {
      "cell_type": "code",
      "execution_count": 135,
      "metadata": {
        "colab": {
          "base_uri": "https://localhost:8080/"
        },
        "id": "6bHDJqwt6pB0",
        "outputId": "f408ccba-aed5-454c-b7b5-449198d7f65b"
      },
      "outputs": [
        {
          "name": "stderr",
          "output_type": "stream",
          "text": [
            "<ipython-input-135-b25af900a053>:2: SettingWithCopyWarning: \n",
            "A value is trying to be set on a copy of a slice from a DataFrame.\n",
            "Try using .loc[row_indexer,col_indexer] = value instead\n",
            "\n",
            "See the caveats in the documentation: https://pandas.pydata.org/pandas-docs/stable/user_guide/indexing.html#returning-a-view-versus-a-copy\n",
            "  df['schedule_week'] = df['schedule_week'].astype(int)\n"
          ]
        }
      ],
      "source": [
        "df = df[~df['schedule_week'].isin(['Superbowl', 'Wildcard', 'Division', 'Conference'])]\n",
        "df['schedule_week'] = df['schedule_week'].astype(int)"
      ]
    },
    {
      "cell_type": "code",
      "execution_count": 136,
      "metadata": {
        "id": "mf3892iS6nZB"
      },
      "outputs": [],
      "source": [
        "df = df.merge(\n",
        "    team_stats_df,\n",
        "    how='left',\n",
        "    left_on=['team_home_abbreviation', 'schedule_season', 'schedule_week'],\n",
        "    right_on=['team_abbreviation', 'season', 'week'],\n",
        "    suffixes=('', '_home')\n",
        ")\n",
        "\n",
        "df = df.merge(\n",
        "    team_stats_df,\n",
        "    how='left',\n",
        "    left_on=['team_away_abbreviation', 'schedule_season', 'schedule_week'],\n",
        "    right_on=['team_abbreviation', 'season', 'week'],\n",
        "    suffixes=('', '_away')\n",
        ")\n"
      ]
    },
    {
      "cell_type": "code",
      "execution_count": 137,
      "metadata": {
        "id": "3_LIwtMx75ya"
      },
      "outputs": [],
      "source": [
        "df['winner_against_spread'] = np.where(\n",
        "    ((df['score_home'] - df['score_away']) > -df['spread_favorite']) & (df['team_favorite_id'] == df['team_home_abbreviation']) |\n",
        "    ((df['score_home'] - df['score_away']) > df['spread_favorite']) & (df['team_favorite_id'] == df['team_away_abbreviation']),\n",
        "    1, 0\n",
        ")\n",
        "df.dropna(subset=['winner_against_spread', 'spread_favorite'], inplace=True)"
      ]
    },
    {
      "cell_type": "code",
      "execution_count": 138,
      "metadata": {
        "id": "4MOxzERO8stp"
      },
      "outputs": [],
      "source": [
        "df.dropna(subset=['rushing_yards_away'], inplace=True)"
      ]
    },
    {
      "cell_type": "code",
      "execution_count": 139,
      "metadata": {
        "id": "3sUtAoLhDhvO"
      },
      "outputs": [],
      "source": [
        "df['home_yards_so_far'] = df.groupby(['team_home', 'schedule_season'])['yards_gained'].cumsum()"
      ]
    },
    {
      "cell_type": "code",
      "execution_count": 140,
      "metadata": {
        "id": "aYPtgA5jSYvg"
      },
      "outputs": [],
      "source": [
        "df['away_yards_so_far'] = df.groupby(['team_away', 'schedule_season'])['yards_gained_away'].cumsum()"
      ]
    },
    {
      "cell_type": "code",
      "execution_count": 141,
      "metadata": {
        "id": "Vdb9n2sSSySv"
      },
      "outputs": [],
      "source": [
        "df['home_touchdowns_so_far'] = df.groupby(['team_home', 'schedule_season'])['touchdown'].cumsum()\n",
        "df['away_touchdowns_so_far'] = df.groupby(['team_away', 'schedule_season'])['touchdown_away'].cumsum()"
      ]
    },
    {
      "cell_type": "code",
      "execution_count": 142,
      "metadata": {
        "id": "EKaQlRP1S-qD"
      },
      "outputs": [],
      "source": [
        "df['home_interceptions_so_far'] = df.groupby(['team_home', 'schedule_season'])['interception'].cumsum()\n",
        "df['away_interceptions_so_far'] = df.groupby(['team_away', 'schedule_season'])['interception_away'].cumsum()\n",
        "df['home_air_yards_so_far'] = df.groupby(['team_home', 'schedule_season'])['air_yards'].cumsum()\n",
        "df['away_air_yards_so_far'] = df.groupby(['team_away', 'schedule_season'])['air_yards_away'].cumsum()\n",
        "df['home_fumbles_so_far'] = df.groupby(['team_home', 'schedule_season'])['fumble'].cumsum()\n",
        "df['away_fumbles_so_far'] = df.groupby(['team_away', 'schedule_season'])['fumble_away'].cumsum()"
      ]
    },
    {
      "cell_type": "code",
      "execution_count": 143,
      "metadata": {
        "id": "taIC09b4UAFV"
      },
      "outputs": [],
      "source": [
        "df['home_qb_scrambled_so_far'] = df.groupby(['team_home', 'schedule_season'])['qb_scramble'].cumsum()\n",
        "df['away_qb_scrambled_so_far'] = df.groupby(['team_away', 'schedule_season'])['qb_scramble_away'].cumsum()"
      ]
    },
    {
      "cell_type": "code",
      "execution_count": 144,
      "metadata": {
        "id": "XBxx62A4hUna"
      },
      "outputs": [],
      "source": [
        "df['home_pass_snaps_pct_so_far'] = df.groupby(['team_home', 'schedule_season'])['pass_snaps_pct'].cumsum()\n",
        "df['away_pass_snaps_pct_so_far'] = df.groupby(['team_away', 'schedule_season'])['pass_snaps_pct_away'].cumsum()"
      ]
    },
    {
      "cell_type": "code",
      "execution_count": 148,
      "metadata": {
        "colab": {
          "base_uri": "https://localhost:8080/"
        },
        "id": "IKfNECnQEEte",
        "outputId": "b2a94f14-ebec-4309-d8a2-f7bb075df4a1"
      },
      "outputs": [
        {
          "name": "stdout",
          "output_type": "stream",
          "text": [
            "0.5664939550949913\n"
          ]
        }
      ],
      "source": [
        "from sklearn.neural_network import MLPClassifier\n",
        "\n",
        "features = [\n",
        "    'home_points_scored_so_far', 'away_points_scored_so_far',\n",
        "    'home_points_allowed_so_far', 'away_points_allowed_so_far',\n",
        "    'home_yards_so_far', 'away_yards_so_far', 'home_touchdowns_so_far', 'away_touchdowns_so_far',\n",
        "    'home_interceptions_so_far', 'away_interceptions_so_far', 'home_air_yards_so_far', 'away_air_yards_so_far',\n",
        "    'home_fumbles_so_far', 'away_fumbles_so_far', 'home_qb_scrambled_so_far', 'away_qb_scrambled_so_far',\n",
        "    'home_pass_snaps_pct_so_far', 'away_pass_snaps_pct_so_far'\n",
        "]\n",
        "\n",
        "for col in features:\n",
        "  if col in df.columns and df[col].isnull().any():\n",
        "    df[col] = df[col].fillna(df[col].mean())\n",
        "\n",
        "X = df[features]\n",
        "y = df['winner_against_spread']\n",
        "\n",
        "X_train, X_test, y_train, y_test = train_test_split(X, y, test_size=0.2, random_state=1020)\n",
        "\n",
        "X_train, X_dev, y_train, y_dev = train_test_split(X_train, y_train, test_size=0.25, random_state=112)\n",
        "\n",
        "model = MLPClassifier(hidden_layer_sizes=(150,15), max_iter=1000, random_state=50)\n",
        "model.fit(X_train, y_train)\n",
        "\n",
        "y_pred = model.predict(X_dev)\n",
        "\n",
        "accuracy = accuracy_score(y_dev, y_pred)\n",
        "print(accuracy)"
      ]
    },
    {
      "cell_type": "code",
      "execution_count": 149,
      "metadata": {
        "colab": {
          "base_uri": "https://localhost:8080/"
        },
        "id": "WWq2RsPpJnxn",
        "outputId": "80aa4f04-06e7-4d4e-ac5a-805f68b7c1e9"
      },
      "outputs": [
        {
          "name": "stdout",
          "output_type": "stream",
          "text": [
            "0.49740932642487046\n"
          ]
        }
      ],
      "source": [
        "y_pred_baseline = np.ones(len(y_test))\n",
        "\n",
        "accuracy_baseline = accuracy_score(y_test, y_pred_baseline)\n",
        "print(accuracy_baseline)"
      ]
    },
    {
      "cell_type": "code",
      "execution_count": 152,
      "metadata": {
        "colab": {
          "base_uri": "https://localhost:8080/"
        },
        "id": "62bXsowoP9r0",
        "outputId": "284c4f55-9216-4164-d482-64bc7d622fec"
      },
      "outputs": [
        {
          "name": "stdout",
          "output_type": "stream",
          "text": [
            "Logistic Regression Accuracy: 0.6442141623488774\n"
          ]
        }
      ],
      "source": [
        "from sklearn.linear_model import LogisticRegression\n",
        "\n",
        "logisticmodel = LogisticRegression(max_iter=100)\n",
        "X_train = X_train[['home_points_scored_so_far','home_points_allowed_so_far', 'away_points_scored_so_far', 'away_points_allowed_so_far']]\n",
        "X_test = X_test[['home_points_scored_so_far','home_points_allowed_so_far', 'away_points_scored_so_far', 'away_points_allowed_so_far']]\n",
        "logisticmodel.fit(X_train, y_train)\n",
        "\n",
        "y_pred_logistic = logisticmodel.predict(X_test)\n",
        "\n",
        "accuracy_logreg = accuracy_score(y_test, y_pred_logistic)\n",
        "print(accuracy_logreg)"
      ]
    }
  ],
  "metadata": {
    "colab": {
      "provenance": []
    },
    "kernelspec": {
      "display_name": "Python 3",
      "name": "python3"
    },
    "language_info": {
      "name": "python"
    }
  },
  "nbformat": 4,
  "nbformat_minor": 0
}
